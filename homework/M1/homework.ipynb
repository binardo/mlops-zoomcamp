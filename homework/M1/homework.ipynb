{
 "cells": [
  {
   "cell_type": "code",
   "execution_count": 1,
   "id": "41062d8a",
   "metadata": {},
   "outputs": [],
   "source": [
    "import pandas as pd\n",
    "\n",
    "from sklearn.feature_extraction import DictVectorizer\n",
    "from sklearn.linear_model import LinearRegression\n",
    "from sklearn.metrics import mean_squared_error"
   ]
  },
  {
   "cell_type": "markdown",
   "id": "8a6b516b",
   "metadata": {},
   "source": [
    "# Read Jan and Feb as train/val"
   ]
  },
  {
   "cell_type": "code",
   "execution_count": 2,
   "id": "f9e6479e",
   "metadata": {},
   "outputs": [],
   "source": [
    "def read_dataframe(filename):\n",
    "    df = pd.read_parquet(filename)\n",
    "\n",
    "    df['duration'] = df.dropOff_datetime - df.pickup_datetime\n",
    "    df.duration = df.duration.apply(lambda td: td.total_seconds() / 60)\n",
    "\n",
    "    return df"
   ]
  },
  {
   "cell_type": "code",
   "execution_count": 3,
   "id": "8029eba0",
   "metadata": {},
   "outputs": [],
   "source": [
    "df_train = read_dataframe('./data/fhv_tripdata_2021-01.parquet')\n",
    "df_val = read_dataframe('./data/fhv_tripdata_2021-02.parquet')"
   ]
  },
  {
   "cell_type": "markdown",
   "id": "9259c22b",
   "metadata": {},
   "source": [
    "# Q1"
   ]
  },
  {
   "cell_type": "code",
   "execution_count": 4,
   "id": "82f76ac2",
   "metadata": {},
   "outputs": [
    {
     "data": {
      "text/plain": [
       "(1154112, 8)"
      ]
     },
     "execution_count": 4,
     "metadata": {},
     "output_type": "execute_result"
    }
   ],
   "source": [
    "df_train.shape"
   ]
  },
  {
   "cell_type": "markdown",
   "id": "22289963",
   "metadata": {},
   "source": [
    "# Q2"
   ]
  },
  {
   "cell_type": "code",
   "execution_count": 5,
   "id": "24ba2ec9",
   "metadata": {},
   "outputs": [
    {
     "data": {
      "text/plain": [
       "19.167224093791006"
      ]
     },
     "execution_count": 5,
     "metadata": {},
     "output_type": "execute_result"
    }
   ],
   "source": [
    "df_train['duration'].mean()"
   ]
  },
  {
   "cell_type": "markdown",
   "id": "74095807",
   "metadata": {},
   "source": [
    "# Data Prep"
   ]
  },
  {
   "cell_type": "code",
   "execution_count": 6,
   "id": "f411edfc",
   "metadata": {},
   "outputs": [],
   "source": [
    "df_train_filtered = df_train[(df_train.duration >= 1) & (df_train.duration <= 60)]\n",
    "df_val_filtered = df_val[(df_val.duration >= 1) & (df_val.duration <= 60)]"
   ]
  },
  {
   "cell_type": "code",
   "execution_count": 7,
   "id": "4913efc5",
   "metadata": {},
   "outputs": [
    {
     "name": "stdout",
     "output_type": "stream",
     "text": [
      "dropped 44286 records limiting to 1-60s\n"
     ]
    }
   ],
   "source": [
    "print(f\"dropped {df_train.shape[0] - df_train_filtered.shape[0]} records limiting to 1-60s\")"
   ]
  },
  {
   "cell_type": "markdown",
   "id": "6d4fc21d",
   "metadata": {},
   "source": [
    "# Q3"
   ]
  },
  {
   "cell_type": "code",
   "execution_count": 8,
   "id": "fb639845",
   "metadata": {},
   "outputs": [],
   "source": [
    "categorical = ['PUlocationID','DOlocationID']\n",
    "\n",
    "df_train_filled = df_train_filtered.copy()\n",
    "df_train_filled[categorical] = df_train_filled[categorical].fillna(-1)\n",
    "\n",
    "df_val_filled = df_val_filtered.copy()\n",
    "df_val_filled[categorical] = df_val_filled[categorical].fillna(-1)\n"
   ]
  },
  {
   "cell_type": "code",
   "execution_count": 9,
   "id": "1ca6234c",
   "metadata": {},
   "outputs": [
    {
     "data": {
      "text/plain": [
       "0.8353"
      ]
     },
     "execution_count": 9,
     "metadata": {},
     "output_type": "execute_result"
    }
   ],
   "source": [
    "df_train_filled['PUlocationID'].value_counts(normalize=True).round(4).loc[-1]"
   ]
  },
  {
   "cell_type": "markdown",
   "id": "36d1e088",
   "metadata": {},
   "source": [
    "# Q4"
   ]
  },
  {
   "cell_type": "code",
   "execution_count": 10,
   "id": "3a436290",
   "metadata": {},
   "outputs": [],
   "source": [
    "df_train_filled[categorical] = df_train_filled[categorical].astype(str)\n",
    "df_val_filled[categorical] = df_val_filled[categorical].astype(str)"
   ]
  },
  {
   "cell_type": "code",
   "execution_count": 11,
   "id": "c5cbfc25",
   "metadata": {},
   "outputs": [],
   "source": [
    "dv = DictVectorizer(sparse=False)\n",
    "\n",
    "train_dicts = df_train_filled[categorical].to_dict(orient='records')\n",
    "X_train = dv.fit_transform(train_dicts)\n",
    "\n",
    "val_dicts = df_val_filled[categorical].to_dict(orient='records')\n",
    "X_val = dv.transform(val_dicts)"
   ]
  },
  {
   "cell_type": "code",
   "execution_count": 12,
   "id": "c7eadff4",
   "metadata": {},
   "outputs": [
    {
     "name": "stderr",
     "output_type": "stream",
     "text": [
      "c:\\Users\\Andrew235\\Miniconda3\\envs\\zoomcamp\\lib\\site-packages\\sklearn\\utils\\deprecation.py:87: FutureWarning: Function get_feature_names is deprecated; get_feature_names is deprecated in 1.0 and will be removed in 1.2. Please use get_feature_names_out instead.\n",
      "  warnings.warn(msg, category=FutureWarning)\n"
     ]
    },
    {
     "data": {
      "text/plain": [
       "525"
      ]
     },
     "execution_count": 12,
     "metadata": {},
     "output_type": "execute_result"
    }
   ],
   "source": [
    "len(dv.get_feature_names())"
   ]
  },
  {
   "cell_type": "markdown",
   "id": "970d5acf",
   "metadata": {},
   "source": [
    "# Q5"
   ]
  },
  {
   "cell_type": "code",
   "execution_count": 22,
   "id": "1e9fb68b",
   "metadata": {},
   "outputs": [],
   "source": [
    "target = 'duration'\n",
    "y_train = df_train_filled[target].values\n",
    "y_val = df_val_filled[target].values"
   ]
  },
  {
   "cell_type": "code",
   "execution_count": 14,
   "id": "429e2394",
   "metadata": {},
   "outputs": [
    {
     "data": {
      "text/plain": [
       "LinearRegression()"
      ]
     },
     "execution_count": 14,
     "metadata": {},
     "output_type": "execute_result"
    }
   ],
   "source": [
    "lr = LinearRegression()\n",
    "lr.fit(X_train, y_train)"
   ]
  },
  {
   "cell_type": "code",
   "execution_count": 15,
   "id": "4f0a17da",
   "metadata": {},
   "outputs": [
    {
     "data": {
      "text/plain": [
       "10.528562839714741"
      ]
     },
     "execution_count": 15,
     "metadata": {},
     "output_type": "execute_result"
    }
   ],
   "source": [
    "pred_train = lr.predict(X_train)\n",
    "mean_squared_error(y_train, pred_train, squared=False)"
   ]
  },
  {
   "cell_type": "markdown",
   "id": "c55a4ab1",
   "metadata": {},
   "source": [
    "# Q6"
   ]
  },
  {
   "cell_type": "code",
   "execution_count": 16,
   "id": "a74334a7",
   "metadata": {},
   "outputs": [
    {
     "data": {
      "text/plain": [
       "14108252.251720905"
      ]
     },
     "execution_count": 16,
     "metadata": {},
     "output_type": "execute_result"
    }
   ],
   "source": [
    "\n",
    "pred_val = lr.predict(X_val)\n",
    "mean_squared_error(y_val, pred_val, squared=False)"
   ]
  },
  {
   "cell_type": "markdown",
   "id": "3dd26bcd",
   "metadata": {},
   "source": [
    "#### hmm something has gone wrong here "
   ]
  },
  {
   "cell_type": "code",
   "execution_count": 17,
   "id": "3a45a2ad",
   "metadata": {},
   "outputs": [
    {
     "data": {
      "text/plain": [
       "array([-8.10503640e+09, -8.10503639e+09, -8.10503639e+09])"
      ]
     },
     "execution_count": 17,
     "metadata": {},
     "output_type": "execute_result"
    }
   ],
   "source": [
    "pred_val[pred_val < 0]"
   ]
  },
  {
   "cell_type": "markdown",
   "id": "c61c8bcc",
   "metadata": {},
   "source": [
    "### it's predicted a duration less than 0 (and a lot less) for a few predictions, use 0 for these values to get stats"
   ]
  },
  {
   "cell_type": "code",
   "execution_count": 23,
   "id": "47b0eb9b",
   "metadata": {},
   "outputs": [
    {
     "data": {
      "text/plain": [
       "11.014329017434141"
      ]
     },
     "execution_count": 23,
     "metadata": {},
     "output_type": "execute_result"
    }
   ],
   "source": [
    "pred_val[pred_val < 0] = 0\n",
    "mean_squared_error(y_val, pred_val, squared=False)"
   ]
  },
  {
   "cell_type": "code",
   "execution_count": null,
   "id": "3382f8c2",
   "metadata": {},
   "outputs": [],
   "source": []
  }
 ],
 "metadata": {
  "interpreter": {
   "hash": "ce78482a7cf6d64c2a4df4c5fdc7c916ee2e3f225a9e0a78161b86d5ee02f92e"
  },
  "kernelspec": {
   "display_name": "Python 3.9.7 ('zoomcamp')",
   "language": "python",
   "name": "python3"
  },
  "language_info": {
   "codemirror_mode": {
    "name": "ipython",
    "version": 3
   },
   "file_extension": ".py",
   "mimetype": "text/x-python",
   "name": "python",
   "nbconvert_exporter": "python",
   "pygments_lexer": "ipython3",
   "version": "3.9.7"
  }
 },
 "nbformat": 4,
 "nbformat_minor": 5
}
